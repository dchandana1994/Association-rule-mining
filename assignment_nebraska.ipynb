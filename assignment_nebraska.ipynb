{
 "cells": [
  {
   "cell_type": "code",
   "execution_count": 1,
   "metadata": {
    "collapsed": false
   },
   "outputs": [
    {
     "name": "stderr",
     "output_type": "stream",
     "text": [
      "/usr/local/lib/python2.7/site-packages/sklearn/cross_validation.py:44: DeprecationWarning: This module was deprecated in version 0.18 in favor of the model_selection module into which all the refactored classes and functions are moved. Also note that the interface of the new CV iterators are different from that of this module. This module will be removed in 0.20.\n",
      "  \"This module will be removed in 0.20.\", DeprecationWarning)\n"
     ]
    }
   ],
   "source": [
    "import pandas as pd\n",
    "import matplotlib\n",
    "import numpy as np\n",
    "import matplotlib.pyplot as plt\n",
    "import warnings\n",
    "warnings.filterwarnings('ignore')\n",
    "matplotlib.style.use('ggplot')\n",
    "from patsy import dmatrices\n",
    "import numpy as np \n",
    "from sklearn.linear_model import LogisticRegression\n",
    "from sklearn.cross_validation import train_test_split\n",
    "from sklearn import metrics\n",
    "from sklearn.cross_validation import cross_val_score\n",
    "from sklearn.cross_validation import train_test_split"
   ]
  },
  {
   "cell_type": "code",
   "execution_count": 2,
   "metadata": {
    "collapsed": true
   },
   "outputs": [],
   "source": [
    "file_name='marketing_training.csv'"
   ]
  },
  {
   "cell_type": "code",
   "execution_count": 3,
   "metadata": {
    "collapsed": true
   },
   "outputs": [],
   "source": [
    "df = pd.read_csv(file_name)"
   ]
  },
  {
   "cell_type": "code",
   "execution_count": 4,
   "metadata": {
    "collapsed": false
   },
   "outputs": [],
   "source": [
    "df.rename(columns={'emp.var.rate':'emp_var_rate'}, inplace=True)\n",
    "df.rename(columns={'cons.price.idx':'cons_price_idx'}, inplace=True)\n",
    "df.rename(columns={'cons.conf.idx':'cons_conf_idx'}, inplace=True)\n",
    "df.rename(columns={'nr.employed':'nr_employed'},inplace=True)"
   ]
  },
  {
   "cell_type": "code",
   "execution_count": 5,
   "metadata": {
    "collapsed": false
   },
   "outputs": [
    {
     "data": {
      "text/plain": [
       "Index([u'custAge', u'profession', u'marital', u'schooling', u'default',\n",
       "       u'housing', u'loan', u'contact', u'month', u'day_of_week', u'campaign',\n",
       "       u'pdays', u'previous', u'poutcome', u'emp_var_rate', u'cons_price_idx',\n",
       "       u'cons_conf_idx', u'euribor3m', u'nr_employed', u'pmonths',\n",
       "       u'pastEmail', u'responded'],\n",
       "      dtype='object')"
      ]
     },
     "execution_count": 5,
     "metadata": {},
     "output_type": "execute_result"
    }
   ],
   "source": [
    "df.columns"
   ]
  },
  {
   "cell_type": "code",
   "execution_count": null,
   "metadata": {
    "collapsed": false
   },
   "outputs": [],
   "source": []
  },
  {
   "cell_type": "code",
   "execution_count": null,
   "metadata": {
    "collapsed": false
   },
   "outputs": [],
   "source": []
  },
  {
   "cell_type": "code",
   "execution_count": 6,
   "metadata": {
    "collapsed": false
   },
   "outputs": [],
   "source": [
    "#Filling Missing value Function based on correlation of other columns. \n",
    "def fill_null_value(df_temp,based_col,target_col,length=1,numerical=True):\n",
    "    if length==2:\n",
    "        a1=df_temp[based_col[0]].unique()\n",
    "        for val in a1:\n",
    "            df_first=df_temp[df_temp[based_col[0]]==val]\n",
    "            count_val = df_first[based_col[1]].value_counts()\n",
    "            second_list =dict(count_val[count_val>50]).keys()\n",
    "            if second_list!=[]:\n",
    "                for val1 in second_list:\n",
    "                    df_second = df_first[df_first[based_col[1]]==val1]\n",
    "                    if numerical:\n",
    "                        mean_val=df_second[df_second[target_col].notnull()][target_col].mean()\n",
    "                        index_fill = df_second[df_second[target_col].isnull()][target_col].index\n",
    "                        df_temp.ix[index_fill,target_col]=mean_val\n",
    "                    if not numerical: \n",
    "                        df_s=df_second[df_second[target_col].notnull()][target_col]\n",
    "                        high_val = df_s.value_counts().idxmax()\n",
    "                        index_fill = df_second[df_second[target_col].isnull()][target_col].index\n",
    "                        df_temp.ix[index_fill,target_col]=high_val\n",
    "        \n",
    "        \n",
    "        \n",
    "    if length==1:\n",
    "        a1 = df_temp[based_col[0]].unique()\n",
    "        for val in a1:\n",
    "            df_first=df_temp[df_temp[based_col[0]]==val]\n",
    "            if numerical:\n",
    "                mean_val=df_first[df_first[target_col].notnull()][target_col].mean()\n",
    "                index_fill = df_first[df_first[target_col].isnull()][target_col].index\n",
    "                df_temp.ix[index_fill,target_col]=mean_val\n",
    "            if not numerical: \n",
    "                df_s=df_first[df_first[target_col].notnull()][target_col]\n",
    "                high_val = df_s.value_counts().idxmax()\n",
    "                index_fill = df_first[df_first[target_col].isnull()][target_col].index\n",
    "                df_temp.ix[index_fill,target_col]=high_val\n",
    "            \n",
    "   \n",
    "                    \n",
    "                        \n",
    "    return df_temp\n",
    "        \n",
    "        \n",
    "        "
   ]
  },
  {
   "cell_type": "code",
   "execution_count": 7,
   "metadata": {
    "collapsed": false
   },
   "outputs": [],
   "source": [
    "#Filling Null values for customer Age, based on the marital status and Profession\n",
    "df1=df.copy(deep=True)\n",
    "df=fill_null_value(df1,['marital','profession'],'custAge',length=2)\n",
    "df['custAge']=df['custAge'].fillna(df['custAge'].mean())"
   ]
  },
  {
   "cell_type": "code",
   "execution_count": null,
   "metadata": {
    "collapsed": false
   },
   "outputs": [],
   "source": []
  },
  {
   "cell_type": "code",
   "execution_count": 8,
   "metadata": {
    "collapsed": false
   },
   "outputs": [],
   "source": [
    "#Filling missing values for schooling based on profession\n",
    "df1 = df.copy(deep=True)\n",
    "df = fill_null_value(df1,['profession'],'schooling',length=1,numerical=False)"
   ]
  },
  {
   "cell_type": "code",
   "execution_count": 9,
   "metadata": {
    "collapsed": false
   },
   "outputs": [],
   "source": [
    "#filling missing values for day_of_week based on profession they are in\n",
    "df1 = df.copy(deep=True)\n",
    "df = fill_null_value(df1,['profession'],'day_of_week',length=1,numerical=False)\n"
   ]
  },
  {
   "cell_type": "code",
   "execution_count": 10,
   "metadata": {
    "collapsed": false
   },
   "outputs": [
    {
     "data": {
      "text/plain": [
       "no     6574\n",
       "yes     840\n",
       "Name: responded, dtype: int64"
      ]
     },
     "execution_count": 10,
     "metadata": {},
     "output_type": "execute_result"
    }
   ],
   "source": [
    "df.responded.value_counts()\n"
   ]
  },
  {
   "cell_type": "code",
   "execution_count": 11,
   "metadata": {
    "collapsed": false
   },
   "outputs": [
    {
     "data": {
      "text/plain": [
       "(7414, 22)"
      ]
     },
     "execution_count": 11,
     "metadata": {},
     "output_type": "execute_result"
    }
   ],
   "source": [
    "df.shape"
   ]
  },
  {
   "cell_type": "code",
   "execution_count": 12,
   "metadata": {
    "collapsed": false
   },
   "outputs": [
    {
     "data": {
      "text/plain": [
       "no     6574\n",
       "yes     840\n",
       "Name: responded, dtype: int64"
      ]
     },
     "execution_count": 12,
     "metadata": {},
     "output_type": "execute_result"
    }
   ],
   "source": [
    "df['responded'].value_counts(dropna=True)"
   ]
  },
  {
   "cell_type": "code",
   "execution_count": null,
   "metadata": {
    "collapsed": false
   },
   "outputs": [],
   "source": []
  },
  {
   "cell_type": "code",
   "execution_count": 13,
   "metadata": {
    "collapsed": true
   },
   "outputs": [],
   "source": [
    "#Categorical Values to be bucketed : campaign, pdays, month, profession, previous, emp.var.rate,pastEmail\n",
    "#Categorical Values : ['profession','marital','schooling','default','housing','contact','']\n",
    "#Floating values : cusAge, cons.conf.idx, euribor3m, nr.employed"
   ]
  },
  {
   "cell_type": "code",
   "execution_count": 14,
   "metadata": {
    "collapsed": false
   },
   "outputs": [],
   "source": [
    "# Bucketizing the data based on the distribution \n",
    "\n",
    "#######################\n",
    "#campaign\n",
    "df['campaign'].value_counts()\n",
    "\n",
    "d_cam = 'campaign_derived'\n",
    "df[d_cam]   = df['campaign']\n",
    "##########\n",
    "c0f = (df[d_cam]<=1)\n",
    "c1f = (df[d_cam]>1) & (df[d_cam]<=4)\n",
    "c2f = (df[d_cam]>4) & (df[d_cam]<=7)\n",
    "c3f = (df[d_cam]>7) & (df[d_cam]<=14)\n",
    "c4f = (df[d_cam]>14)\n",
    "##########\n",
    "\n",
    "df.ix[c0f,d_cam] = '<2'\n",
    "df.ix[c1f,d_cam] = '2-4'\n",
    "df.ix[c2f,d_cam] = '4-7'\n",
    "df.ix[c3f,d_cam] = '7-14'\n",
    "df.ix[c4f,d_cam] = '>14'\n"
   ]
  },
  {
   "cell_type": "code",
   "execution_count": 15,
   "metadata": {
    "collapsed": false
   },
   "outputs": [],
   "source": [
    "#######################\n",
    "#pdays\n",
    "\n",
    "\n",
    "pdays_d = 'pdays_derived'\n",
    "df[pdays_d]   = df['pdays']\n",
    "##########\n",
    "c0f = (df[pdays_d]<=2)\n",
    "c1f = (df[pdays_d]>2) & (df[pdays_d]<=4)\n",
    "c2f = (df[pdays_d]>4) & (df[pdays_d]<=7)\n",
    "c3f = (df[pdays_d]>7)\n",
    "##########\n",
    "\n",
    "df.ix[c0f,pdays_d] = '<3'\n",
    "df.ix[c1f,pdays_d] = '3-4'\n",
    "df.ix[c2f,pdays_d] = '5-7'\n",
    "df.ix[c3f,pdays_d] = '>7'\n"
   ]
  },
  {
   "cell_type": "code",
   "execution_count": 16,
   "metadata": {
    "collapsed": false
   },
   "outputs": [],
   "source": [
    "#######################\n",
    "#month\n",
    "\n",
    "month_d = 'month_derived'\n",
    "df[month_d]   = df['month']\n",
    "##########\n",
    "c0f = (df[month_d].isin(['jan','feb','mar']))\n",
    "c1f = (df[month_d].isin(['apr','may','jun']))\n",
    "c2f = (df[month_d].isin(['jul','aug','sep']))\n",
    "c3f = (df[month_d].isin(['oct','nov','dec']))\n",
    "##########\n",
    "\n",
    "df.ix[c0f,month_d] = 'q1'\n",
    "df.ix[c1f,month_d] = 'q2'\n",
    "df.ix[c2f,month_d] = 'q3'\n",
    "df.ix[c3f,month_d] = 'q4'\n",
    "\n"
   ]
  },
  {
   "cell_type": "code",
   "execution_count": 17,
   "metadata": {
    "collapsed": false
   },
   "outputs": [],
   "source": [
    "#######################\n",
    "#previous\n",
    "\n",
    "month_d = 'month_derived'\n",
    "df[month_d]   = df['month']\n",
    "##########\n",
    "c0f = (df[month_d].isin(['jan','feb','mar']))\n",
    "c1f = (df[month_d].isin(['apr','may','jun']))\n",
    "c2f = (df[month_d].isin(['jul','aug','sep']))\n",
    "c3f = (df[month_d].isin(['oct','nov','dec']))\n",
    "##########\n",
    "\n",
    "df.ix[c0f,month_d] = 'q1'\n",
    "df.ix[c1f,month_d] = 'q2'\n",
    "df.ix[c2f,month_d] = 'q3'\n",
    "df.ix[c3f,month_d] = 'q4'\n"
   ]
  },
  {
   "cell_type": "code",
   "execution_count": 18,
   "metadata": {
    "collapsed": false
   },
   "outputs": [],
   "source": [
    "#########\n",
    "df['previous'].value_counts()\n",
    "previous_d = 'previous_derived'\n",
    "df[previous_d]   = df['previous']\n",
    "##########\n",
    "c0f = (df[previous_d]<=0)\n",
    "c1f = (df[previous_d]>0) & (df[previous_d]<=2)\n",
    "c2f = (df[previous_d]>2)\n",
    "##########\n",
    "\n",
    "df.ix[c0f,previous_d] = '<1'\n",
    "df.ix[c1f,previous_d] = '1-2'\n",
    "df.ix[c2f,previous_d] = '>2'\n",
    "\n",
    "\n"
   ]
  },
  {
   "cell_type": "code",
   "execution_count": 19,
   "metadata": {
    "collapsed": true
   },
   "outputs": [],
   "source": [
    "#########\n",
    "df['previous'].value_counts()\n",
    "pmail_d = 'pastEmail_derived'\n",
    "df[pmail_d]   = df['pastEmail']\n",
    "##########\n",
    "c0f = (df[pmail_d]<=0)\n",
    "c1f = (df[pmail_d]>0) & (df[pmail_d]<=4)\n",
    "c2f = (df[pmail_d]>4)\n",
    "##########\n",
    "\n",
    "df.ix[c0f,pmail_d] = '<1'\n",
    "df.ix[c1f,pmail_d] = '1-4'\n",
    "df.ix[c2f,pmail_d] = '>4'\n"
   ]
  },
  {
   "cell_type": "code",
   "execution_count": 20,
   "metadata": {
    "collapsed": false
   },
   "outputs": [],
   "source": [
    "####################responded to numerical \n",
    "responded__d = 'responded_derived'\n",
    "df[responded__d]   = df['responded']\n",
    "##########\n",
    "c1f = df[responded__d]=='yes'\n",
    "c0f = df[responded__d]=='no'\n",
    "\n",
    "\n",
    "df.ix[c0f,responded__d] = 0\n",
    "df.ix[c1f,responded__d] = 1\n"
   ]
  },
  {
   "cell_type": "code",
   "execution_count": null,
   "metadata": {
    "collapsed": false
   },
   "outputs": [],
   "source": []
  },
  {
   "cell_type": "code",
   "execution_count": null,
   "metadata": {
    "collapsed": true
   },
   "outputs": [],
   "source": []
  },
  {
   "cell_type": "code",
   "execution_count": 50,
   "metadata": {
    "collapsed": false
   },
   "outputs": [],
   "source": [
    "#Selecting columns for the model building \n",
    "colums_model = ['custAge','emp_var_rate',\"cons_price_idx\",'cons_conf_idx','nr_employed','euribor3m','profession','marital','schooling','housing','loan','contact','month_derived','day_of_week','campaign_derived',\n",
    "                'pdays_derived','previous_derived','poutcome','pastEmail_derived','responded_derived','responded']\n",
    "df_model = df[colums_model]"
   ]
  },
  {
   "cell_type": "code",
   "execution_count": 49,
   "metadata": {
    "collapsed": false
   },
   "outputs": [],
   "source": [
    "#df_model.to_csv('final_modified_data.csv')\n"
   ]
  },
  {
   "cell_type": "code",
   "execution_count": 23,
   "metadata": {
    "collapsed": false
   },
   "outputs": [],
   "source": [
    "y,X=dmatrices('responded ~ custAge+emp_var_rate+cons_price_idx+cons_conf_idx+nr_employed+euribor3m+profession+marital+schooling+housing+loan+contact+month_derived+day_of_week+campaign_derived+pdays_derived+previous_derived+poutcome+pastEmail_derived',df_model,return_type=\"dataframe\")"
   ]
  },
  {
   "cell_type": "code",
   "execution_count": 24,
   "metadata": {
    "collapsed": false
   },
   "outputs": [],
   "source": [
    "y=df_model['responded_derived']\n",
    "y=np.array(map(int,y))"
   ]
  },
  {
   "cell_type": "code",
   "execution_count": null,
   "metadata": {
    "collapsed": false
   },
   "outputs": [],
   "source": [
    "#Splitting the data \n",
    "X_train, X_test, y_train, y_test = train_test_split(X, y, test_size=0.3, random_state=0)"
   ]
  },
  {
   "cell_type": "code",
   "execution_count": null,
   "metadata": {
    "collapsed": false
   },
   "outputs": [],
   "source": []
  },
  {
   "cell_type": "code",
   "execution_count": 27,
   "metadata": {
    "collapsed": false
   },
   "outputs": [
    {
     "name": "stderr",
     "output_type": "stream",
     "text": [
      "/usr/local/lib/python2.7/site-packages/sklearn/utils/class_weight.py:65: DeprecationWarning: The class_weight='auto' heuristic is deprecated in 0.17 in favor of a new heuristic class_weight='balanced'. 'auto' will be removed in 0.19\n",
      "  \" 0.19\", DeprecationWarning)\n"
     ]
    },
    {
     "data": {
      "text/plain": [
       "LogisticRegression(C=1.0, class_weight='auto', dual=False, fit_intercept=True,\n",
       "          intercept_scaling=1, max_iter=100, multi_class='ovr', n_jobs=1,\n",
       "          penalty='l2', random_state=None, solver='liblinear', tol=0.0001,\n",
       "          verbose=0, warm_start=False)"
      ]
     },
     "execution_count": 27,
     "metadata": {},
     "output_type": "execute_result"
    }
   ],
   "source": [
    "#Logistic Regression using class balance technique \n",
    "model = LogisticRegression(class_weight='auto')\n",
    "model.fit(X_train,y_train)\n",
    "X_test_predict=model.predict(X_test)\n",
    "print metrics.confusion_matrix(y_test,X_test_predict)"
   ]
  },
  {
   "cell_type": "markdown",
   "metadata": {},
   "source": [
    "#This is the code for Random Forest Classifier. \n",
    "\n",
    "\n",
    "\n"
   ]
  },
  {
   "cell_type": "code",
   "execution_count": 31,
   "metadata": {
    "collapsed": false
   },
   "outputs": [
    {
     "data": {
      "text/plain": [
       "RandomForestClassifier(bootstrap=True, class_weight='auto', criterion='gini',\n",
       "            max_depth=None, max_features='auto', max_leaf_nodes=None,\n",
       "            min_impurity_split=1e-07, min_samples_leaf=1,\n",
       "            min_samples_split=2, min_weight_fraction_leaf=0.0,\n",
       "            n_estimators=100, n_jobs=1, oob_score=False, random_state=None,\n",
       "            verbose=0, warm_start=False)"
      ]
     },
     "execution_count": 31,
     "metadata": {},
     "output_type": "execute_result"
    }
   ],
   "source": [
    "# Using Random Forest Trees\n",
    "from sklearn.ensemble import RandomForestClassifier\n",
    "model_r = RandomForestClassifier(class_weight='auto',n_estimators=100)\n",
    "model_r.fit(X_train,y_train)\n",
    "y_test_predict_random=model_r.predict(X_test)\n",
    "print metrics.confusion_matrix(y_test,y_test_predict_random)"
   ]
  },
  {
   "cell_type": "code",
   "execution_count": null,
   "metadata": {
    "collapsed": true
   },
   "outputs": [],
   "source": []
  },
  {
   "cell_type": "code",
   "execution_count": null,
   "metadata": {
    "collapsed": false
   },
   "outputs": [],
   "source": [
    "# USing Support Vector Machines \n",
    "from sklearn.svm import SVC\n",
    "model_svc = SVC(kernel='rbf',C=10,class_weight='auto')\n",
    "model_svc.fit(X_train,y_train)\n",
    "y_test_predict_svc=model_svc.predict(X_test)\n",
    "metrics.confusion_matrix(y_test,y_test_predict_svc)"
   ]
  },
  {
   "cell_type": "code",
   "execution_count": null,
   "metadata": {
    "collapsed": false
   },
   "outputs": [],
   "source": []
  },
  {
   "cell_type": "code",
   "execution_count": 35,
   "metadata": {
    "collapsed": false
   },
   "outputs": [],
   "source": []
  },
  {
   "cell_type": "code",
   "execution_count": null,
   "metadata": {
    "collapsed": false
   },
   "outputs": [],
   "source": []
  },
  {
   "cell_type": "code",
   "execution_count": 43,
   "metadata": {
    "collapsed": true
   },
   "outputs": [],
   "source": []
  },
  {
   "cell_type": "code",
   "execution_count": null,
   "metadata": {
    "collapsed": false
   },
   "outputs": [],
   "source": []
  },
  {
   "cell_type": "code",
   "execution_count": null,
   "metadata": {
    "collapsed": true
   },
   "outputs": [],
   "source": []
  }
 ],
 "metadata": {
  "kernelspec": {
   "display_name": "Python 2",
   "language": "python",
   "name": "python2"
  },
  "language_info": {
   "codemirror_mode": {
    "name": "ipython",
    "version": 2
   },
   "file_extension": ".py",
   "mimetype": "text/x-python",
   "name": "python",
   "nbconvert_exporter": "python",
   "pygments_lexer": "ipython2",
   "version": "2.7.12"
  }
 },
 "nbformat": 4,
 "nbformat_minor": 1
}
